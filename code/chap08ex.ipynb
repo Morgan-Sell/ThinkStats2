{
 "cells": [
  {
   "cell_type": "markdown",
   "metadata": {},
   "source": [
    "# Examples and Exercises from Think Stats, 2nd Edition\n",
    "\n",
    "http://thinkstats2.com\n",
    "\n",
    "Copyright 2016 Allen B. Downey\n",
    "\n",
    "MIT License: https://opensource.org/licenses/MIT\n"
   ]
  },
  {
   "cell_type": "code",
   "execution_count": 1,
   "metadata": {},
   "outputs": [],
   "source": [
    "from __future__ import print_function, division\n",
    "\n",
    "import seaborn as sns\n",
    "import matplotlib.pyplot as plt\n",
    "%matplotlib inline\n",
    "\n",
    "import numpy as np\n",
    "\n",
    "import brfss\n",
    "\n",
    "import thinkstats2\n",
    "import thinkplot\n",
    "\n",
    "import math\n",
    "\n"
   ]
  },
  {
   "cell_type": "markdown",
   "metadata": {},
   "source": [
    "## The estimation game\n"
   ]
  },
  {
   "cell_type": "markdown",
   "metadata": {},
   "source": [
    "Root mean squared error is one of several ways to summarize the average error of an estimation process."
   ]
  },
  {
   "cell_type": "code",
   "execution_count": 2,
   "metadata": {},
   "outputs": [],
   "source": [
    "def RMSE(estimates, actual):\n",
    "    \"\"\"Computes the root mean squared error of a sequence of estimates.\n",
    "\n",
    "    estimate: sequence of numbers\n",
    "    actual: actual value\n",
    "\n",
    "    returns: float RMSE\n",
    "    \"\"\"\n",
    "    e2 = [(estimate-actual)**2 for estimate in estimates]\n",
    "    mse = np.mean(e2)\n",
    "    return np.sqrt(mse)"
   ]
  },
  {
   "cell_type": "markdown",
   "metadata": {},
   "source": [
    "The following function simulates experiments where we try to estimate the mean of a population based on a sample with size `n=7`.  We run `iters=1000` experiments and collect the mean and median of each sample."
   ]
  },
  {
   "cell_type": "code",
   "execution_count": 3,
   "metadata": {},
   "outputs": [
    {
     "name": "stdout",
     "output_type": "stream",
     "text": [
      "Experiment 1\n",
      "rmse xbar 0.37363975095610774\n",
      "rmse median 0.4488325774451902\n"
     ]
    }
   ],
   "source": [
    "import random\n",
    "\n",
    "def Estimate1(n=7, iters=1000):\n",
    "    \"\"\"Evaluates RMSE of sample mean and median as estimators.\n",
    "\n",
    "    n: sample size\n",
    "    iters: number of iterations\n",
    "    \"\"\"\n",
    "    mu = 0\n",
    "    sigma = 1\n",
    "\n",
    "    means = []\n",
    "    medians = []\n",
    "    for _ in range(iters):\n",
    "        xs = [random.gauss(mu, sigma) for _ in range(n)]\n",
    "        xbar = np.mean(xs)\n",
    "        median = np.median(xs)\n",
    "        means.append(xbar)\n",
    "        medians.append(median)\n",
    "\n",
    "    print('Experiment 1')\n",
    "    print('rmse xbar', RMSE(means, mu))\n",
    "    print('rmse median', RMSE(medians, mu))\n",
    "    \n",
    "Estimate1()"
   ]
  },
  {
   "cell_type": "markdown",
   "metadata": {},
   "source": [
    "Using $\\bar{x}$ to estimate the mean works a little better than using the median; in the long run, it minimizes RMSE.  But using the median is more robust in the presence of outliers or large errors.\n",
    "\n",
    "\n",
    "## Estimating variance\n",
    "\n",
    "The obvious way to estimate the variance of a population is to compute the variance of the sample, $S^2$, but that turns out to be a biased estimator; that is, in the long run, the average error doesn't converge to 0.\n",
    "\n",
    "The following function computes the mean error for a collection of estimates."
   ]
  },
  {
   "cell_type": "code",
   "execution_count": 4,
   "metadata": {},
   "outputs": [],
   "source": [
    "def MeanError(estimates, actual):\n",
    "    \"\"\"Computes the mean error of a sequence of estimates.\n",
    "\n",
    "    estimate: sequence of numbers\n",
    "    actual: actual value\n",
    "\n",
    "    returns: float mean error\n",
    "    \"\"\"\n",
    "    errors = [estimate-actual for estimate in estimates]\n",
    "    return np.mean(errors)"
   ]
  },
  {
   "cell_type": "markdown",
   "metadata": {},
   "source": [
    "The following function simulates experiments where we try to estimate the variance of a population based on a sample with size `n=7`.  We run `iters=1000` experiments and two estimates for each sample, $S^2$ and $S_{n-1}^2$."
   ]
  },
  {
   "cell_type": "code",
   "execution_count": 5,
   "metadata": {},
   "outputs": [
    {
     "name": "stdout",
     "output_type": "stream",
     "text": [
      "mean error biased -0.12505268440081854\n",
      "mean error unbiased 0.020771868199045\n"
     ]
    }
   ],
   "source": [
    "def Estimate2(n=7, iters=1000):\n",
    "    mu = 0\n",
    "    sigma = 1\n",
    "\n",
    "    estimates1 = []\n",
    "    estimates2 = []\n",
    "    for _ in range(iters):\n",
    "        xs = [random.gauss(mu, sigma) for i in range(n)]\n",
    "        biased = np.var(xs)\n",
    "        unbiased = np.var(xs, ddof=1)\n",
    "        estimates1.append(biased)\n",
    "        estimates2.append(unbiased)\n",
    "\n",
    "    print('mean error biased', MeanError(estimates1, sigma**2))\n",
    "    print('mean error unbiased', MeanError(estimates2, sigma**2))\n",
    "    \n",
    "Estimate2()"
   ]
  },
  {
   "cell_type": "markdown",
   "metadata": {},
   "source": [
    "The mean error for $S^2$ is non-zero, which suggests that it is biased.  The mean error for $S_{n-1}^2$ is close to zero, and gets even smaller if we increase `iters`."
   ]
  },
  {
   "cell_type": "markdown",
   "metadata": {},
   "source": [
    "## The sampling distribution\n",
    "\n",
    "The following function simulates experiments where we estimate the mean of a population using $\\bar{x}$, and returns a list of estimates, one from each experiment."
   ]
  },
  {
   "cell_type": "code",
   "execution_count": 6,
   "metadata": {},
   "outputs": [],
   "source": [
    "def SimulateSample(mu=90, sigma=7.5, n=9, iters=1000):\n",
    "    xbars = []\n",
    "    for j in range(iters):\n",
    "        xs = np.random.normal(mu, sigma, n)\n",
    "        xbar = np.mean(xs)\n",
    "        xbars.append(xbar)\n",
    "    return xbars\n",
    "\n",
    "xbars = SimulateSample()"
   ]
  },
  {
   "cell_type": "markdown",
   "metadata": {},
   "source": [
    "Here's the \"sampling distribution of the mean\" which shows how much we should expect $\\bar{x}$ to vary from one experiment to the next."
   ]
  },
  {
   "cell_type": "code",
   "execution_count": 7,
   "metadata": {},
   "outputs": [
    {
     "data": {
      "image/png": "[encoded data removed]",
      "text/plain": [
       "<Figure size 432x288 with 1 Axes>"
      ]
     },
     "metadata": {
      "needs_background": "light"
     },
     "output_type": "display_data"
    }
   ],
   "source": [
    "cdf = thinkstats2.Cdf(xbars)\n",
    "thinkplot.Cdf(cdf)\n",
    "thinkplot.Config(xlabel='Sample mean',\n",
    "                 ylabel='CDF')"
   ]
  },
  {
   "cell_type": "markdown",
   "metadata": {},
   "source": [
    "The mean of the sample means is close to the actual value of $\\mu$."
   ]
  },
  {
   "cell_type": "code",
   "execution_count": 8,
   "metadata": {},
   "outputs": [
    {
     "data": {
      "text/plain": [
       "90.0435577431496"
      ]
     },
     "execution_count": 8,
     "metadata": {},
     "output_type": "execute_result"
    }
   ],
   "source": [
    "np.mean(xbars)"
   ]
  },
  {
   "cell_type": "markdown",
   "metadata": {},
   "source": [
    "An interval that contains 90% of the values in the sampling disrtribution is called a 90% confidence interval."
   ]
  },
  {
   "cell_type": "code",
   "execution_count": 9,
   "metadata": {},
   "outputs": [
    {
     "data": {
      "text/plain": [
       "(85.65702993961746, 94.31691652233957)"
      ]
     },
     "execution_count": 9,
     "metadata": {},
     "output_type": "execute_result"
    }
   ],
   "source": [
    "ci = cdf.Percentile(5), cdf.Percentile(95)\n",
    "ci"
   ]
  },
  {
   "cell_type": "markdown",
   "metadata": {},
   "source": [
    "And the RMSE of the sample means is called the standard error."
   ]
  },
  {
   "cell_type": "code",
   "execution_count": 10,
   "metadata": {},
   "outputs": [
    {
     "data": {
      "text/plain": [
       "2.643927745210848"
      ]
     },
     "execution_count": 10,
     "metadata": {},
     "output_type": "execute_result"
    }
   ],
   "source": [
    "stderr = RMSE(xbars, 90)\n",
    "stderr"
   ]
  },
  {
   "cell_type": "markdown",
   "metadata": {},
   "source": [
    "Confidence intervals and standard errors quantify the variability in the estimate due to random sampling."
   ]
  },
  {
   "cell_type": "markdown",
   "metadata": {},
   "source": [
    "## Estimating rates\n",
    "\n",
    "The following function simulates experiments where we try to estimate the mean of an exponential distribution using the mean and median of a sample. "
   ]
  },
  {
   "cell_type": "code",
   "execution_count": 11,
   "metadata": {},
   "outputs": [
    {
     "name": "stdout",
     "output_type": "stream",
     "text": [
      "rmse L 1.1639910353627287\n",
      "rmse Lm 1.7079347719989466\n",
      "mean error L 0.348602453983581\n",
      "mean error Lm 0.42662516103339565\n"
     ]
    }
   ],
   "source": [
    "def Estimate3(n=7, iters=1000):\n",
    "    lam = 2\n",
    "\n",
    "    means = []\n",
    "    medians = []\n",
    "    for _ in range(iters):\n",
    "        xs = np.random.exponential(1.0/lam, n)\n",
    "        L = 1 / np.mean(xs)\n",
    "        Lm = np.log(2) / thinkstats2.Median(xs)\n",
    "        means.append(L)\n",
    "        medians.append(Lm)\n",
    "\n",
    "    print('rmse L', RMSE(means, lam))\n",
    "    print('rmse Lm', RMSE(medians, lam))\n",
    "    print('mean error L', MeanError(means, lam))\n",
    "    print('mean error Lm', MeanError(medians, lam))\n",
    "    \n",
    "Estimate3()"
   ]
  },
  {
   "cell_type": "markdown",
   "metadata": {},
   "source": [
    "The RMSE is smaller for the sample mean than for the sample median.\n",
    "\n",
    "But neither estimator is unbiased."
   ]
  },
  {
   "cell_type": "markdown",
   "metadata": {},
   "source": [
    "---\n",
    "## Exercises"
   ]
  },
  {
   "cell_type": "markdown",
   "metadata": {},
   "source": [
    "**Exercise 8-1:**  In this chapter we used $\\bar{x}$ and median to estimate µ, and found that $\\bar{x}$ yields lower MSE. Also, we used $S^2$ and $S_{n-1}^2$ to estimate σ, and found that $S^2$ is biased and $S_{n-1}^2$ unbiased.\n",
    "Run similar experiments to see if $\\bar{x}$ and median are biased estimates of µ. Also check whether $S^2$ or $S_{n-1}^2$ yields a lower MSE.\n",
    "\n",
    "**RESPONSE:** (1) The bias estimator of variance yields a lower RMSE than the bias estimator. (2) As the number of samples increases, the RMSE for both X-bar and Median decreases."
   ]
  },
  {
   "cell_type": "code",
   "execution_count": 52,
   "metadata": {},
   "outputs": [],
   "source": [
    "# Solution goes here\n",
    "# Develop sampling distribution\n",
    "\n",
    "\n",
    "\n",
    "def calculate_mean_errors(mu, sigma, num_obs_per_sample, num_iters):\n",
    "    \"\"\"\n",
    "    Calculates the mean errors for x-bar and median as estimators of the population mean.\n",
    "    \n",
    "    \"\"\"\n",
    "    x_bars = []\n",
    "    medians = []\n",
    "\n",
    "    for _ in range(num_iters):\n",
    "        sample = np.random.normal(mu, sigma, num_obs_per_sample)\n",
    "        x_bar = np.mean(sample)\n",
    "        med = np.median(sample)\n",
    "        x_bars.append(x_bar)\n",
    "        medians.append(med)\n",
    "    \n",
    "    x_bar_err = MeanError(x_bars, mu)\n",
    "    median_err = MeanError(medians, mu)\n",
    "    \n",
    "    print('X-bar Mean Error: {:.5f}'.format(x_bar_err))\n",
    "    print('Medians Mean Error: {:.5f}'.format(median_err))"
   ]
  },
  {
   "cell_type": "code",
   "execution_count": 53,
   "metadata": {},
   "outputs": [
    {
     "name": "stdout",
     "output_type": "stream",
     "text": [
      "X-bar Error: -0.0003\n",
      "Medians Error: -0.0001\n"
     ]
    }
   ],
   "source": [
    "# Solution goes here\n",
    "# X-bar vs Median\n",
    "\n",
    "mu = 0\n",
    "sigma = 1\n",
    "num_obs_per_sample = 10\n",
    "num_iters = 100000\n",
    "\n",
    "run_experiment(mu, sigma, num_obs_per_sample, num_iters)"
   ]
  },
  {
   "cell_type": "code",
   "execution_count": 50,
   "metadata": {},
   "outputs": [],
   "source": [
    "# Solution goes here\n",
    "# Bias variance vs Unbiased variance\n",
    "# Unbiased deducts one from the denominator.\n",
    "\n",
    "def calculate_biased_and_unbiased_rmses(mu, sigma, num_obs_per_sample, num_iters):\n",
    "    \"\"\"\n",
    "    Calculates the biased and unbiased RMSEs.\n",
    "    \n",
    "    \"\"\"\n",
    "    bias_estimates = []\n",
    "    unbias_estimates = []\n",
    "\n",
    "    for _ in range(num_iters):\n",
    "        sample = np.random.normal(mu, sigma, num_obs_per_sample)\n",
    "        bias = np.var(sample)\n",
    "        unbias = np.var(sample, ddof=1)\n",
    "        bias_estimates.append(bias)\n",
    "        unbias_estimates.append(unbias)\n",
    "        \n",
    "    bias_rmse = RMSE(bias_estimates, sigma**2)\n",
    "    unbias_rmse = RMSE(unbias_estimates, sigma**2)\n",
    "    \n",
    "    print(f\"Bias RMSE: {round(bias_rmse, 6)}\")\n",
    "    print(f\"Unbias RMSE: {round(unbias_rmse, 6)}\")"
   ]
  },
  {
   "cell_type": "code",
   "execution_count": 89,
   "metadata": {},
   "outputs": [
    {
     "name": "stdout",
     "output_type": "stream",
     "text": [
      "Bias RMSE: 0.426591\n",
      "Unbias RMSE: 0.461375\n"
     ]
    }
   ],
   "source": [
    "mu = 0\n",
    "sigma = 1\n",
    "num_obs_per_sample = 10\n",
    "num_iters = 1000\n",
    "\n",
    "calculate_biased_and_unbiased_rmses(mu, sigma, num_obs_per_sample, num_iters)"
   ]
  },
  {
   "cell_type": "markdown",
   "metadata": {},
   "source": [
    "**Exercise 8-2:** Suppose you draw a sample with size n=10 from an exponential distribution with λ=2. Simulate this experiment 1000 times and plot the sampling distribution of the estimate L. Compute the standard error of the estimate and the 90% confidence interval.\n",
    "\n",
    "**RESPONSE:** As the the number of obsersavtions per sample increases, the standard error decreases and the 90% CI becomes more narrow.\n",
    "\n",
    "Repeat the experiment with a few different values of `n` and make a plot of standard error versus `n`.\n",
    "\n"
   ]
  },
  {
   "cell_type": "code",
   "execution_count": 91,
   "metadata": {},
   "outputs": [],
   "source": [
    "# Solution goes here\n",
    "num_iters = 1000\n",
    "obs_per_sample = 100\n",
    "lam = 2\n",
    "\n",
    "xbars = []\n",
    "medians = []\n",
    "\n",
    "for _ in range(num_iters):\n",
    "    sample = np.random.exponential(1.0 / lam, obs_per_sample)\n",
    "    L = 1 / np.mean(sample)\n",
    "    L_median = math.log(2) / np.median(sample)\n",
    "    xbars.append(L)\n",
    "    medians.append(L_median)\n",
    "\n"
   ]
  },
  {
   "cell_type": "code",
   "execution_count": 92,
   "metadata": {},
   "outputs": [],
   "source": [
    "def vertical_line(x, y=1):\n",
    "    \"\"\"\n",
    "    Add vertical line to plot\n",
    "    \"\"\"\n",
    "    thinkplot.Plot([x, x], [0, y], color='0.8', linewidth=3)"
   ]
  },
  {
   "cell_type": "markdown",
   "metadata": {},
   "source": [
    "#### Sampling Distribution of the Sample Means"
   ]
  },
  {
   "cell_type": "code",
   "execution_count": 98,
   "metadata": {},
   "outputs": [
    {
     "name": "stdout",
     "output_type": "stream",
     "text": [
      "Standard Error: 0.2116\n",
      "90% Confidence Interval:  (1.7162484640069076, 2.3815241637078675)\n",
      "\n",
      "\n"
     ]
    },
    {
     "data": {
      "image/png": "[encoded data removed]",
      "text/plain": [
       "<Figure size 432x288 with 1 Axes>"
      ]
     },
     "metadata": {
      "needs_background": "light"
     },
     "output_type": "display_data"
    }
   ],
   "source": [
    "y_floor = 1\n",
    "y_ceiling = 3\n",
    "\n",
    "ci = cdf.Percentile(5), cdf.Percentile(95)\n",
    "std_err = RMSE(xbars, lam)\n",
    "\n",
    "cdf = thinkstats2.Cdf(xbars)\n",
    "vertical_line(ci[0])\n",
    "vertical_line(ci[1])\n",
    "thinkplot.Cdf(cdf)\n",
    "\n",
    "print('Standard Error: {:.4f}'.format(std_err))\n",
    "print('90% Confidence Interval: ', ci)\n",
    "print('\\n')\n",
    "thinkplot.Config(xlabel='Sample mean',\n",
    "                 ylabel='CDF',\n",
    "                title='Sampling Distribution',\n",
    "                axis=[y_floor, y_ceiling, -0.05, 1.05])"
   ]
  },
  {
   "cell_type": "code",
   "execution_count": 94,
   "metadata": {},
   "outputs": [],
   "source": [
    "# SAMPLE MEANS\n",
    "\n"
   ]
  },
  {
   "cell_type": "markdown",
   "metadata": {},
   "source": [
    "#### Sampling Distribution of the Sample Medians"
   ]
  },
  {
   "cell_type": "code",
   "execution_count": 100,
   "metadata": {},
   "outputs": [
    {
     "name": "stdout",
     "output_type": "stream",
     "text": [
      "Standard Error: 0.3080\n",
      "90% Confidence Interval:  (1.7162484640069076, 2.3815241637078675)\n",
      "\n",
      "\n"
     ]
    },
    {
     "data": {
      "image/png": "[encoded data removed]",
      "text/plain": [
       "<Figure size 432x288 with 1 Axes>"
      ]
     },
     "metadata": {
      "needs_background": "light"
     },
     "output_type": "display_data"
    }
   ],
   "source": [
    "y_floor = 1\n",
    "y_ceiling = 3\n",
    "\n",
    "ci = cdf.Percentile(5), cdf.Percentile(95)\n",
    "std_err = RMSE(medians, lam)\n",
    "cdf = thinkstats2.Cdf(medians)\n",
    "\n",
    "print('Standard Error: {:.4f}'.format(std_err))\n",
    "print('90% Confidence Interval: ', ci)\n",
    "print('\\n')\n",
    "\n",
    "vertical_line(ci[0])\n",
    "vertical_line(ci[1])\n",
    "cdf = thinkstats2.Cdf(medians)\n",
    "thinkplot.Cdf(cdf)\n",
    "thinkplot.Config(xlabel='Sampling Distribution',\n",
    "                 ylabel='CDF',\n",
    "                title='Sample Median',\n",
    "                axis=[y_floor, y_ceiling, -0.05, 1.05])"
   ]
  },
  {
   "cell_type": "markdown",
   "metadata": {},
   "source": [
    "---\n",
    "**Exercise 8-3:** In games like hockey and soccer, the time between goals is roughly exponential. So you could estimate a team’s goal-scoring rate by observing the number of goals they score in a game. This estimation process is a little different from sampling the time between goals, so let’s see how it works.\n",
    "\n",
    "Write a function that takes a goal-scoring rate, `lam`, in goals per game, and simulates a game by generating the time between goals until the total time exceeds 1 game, then returns the number of goals scored.\n",
    "\n",
    "Write another function that simulates many games, stores the estimates of `lam`, then computes their mean error and RMSE.\n",
    "\n",
    "Is this way of making an estimate biased?\n",
    "\n",
    "**RESPONSE:** \n",
    "\n",
    "- As lambda increases, the number of goals with the greatest probability increases; however, the level of probability decreases compared to distributions that are generated with a lower lambda. The distribution's srpead increases.\n",
    "\n",
    "- The mean error decreases as the number of games simulated increases, signifying that is **unbiased**.\n",
    "\n",
    "- If the time between goals is exponential, the distribution of goals scored in a game is Poisson.\n",
    "\n"
   ]
  },
  {
   "cell_type": "code",
   "execution_count": 101,
   "metadata": {},
   "outputs": [],
   "source": [
    "def SimulateGame(lam):\n",
    "    \"\"\"Simulates a game and returns the estimated goal-scoring rate.\n",
    "\n",
    "    lam: actual goal scoring rate in goals per game\n",
    "    \"\"\"\n",
    "    goals = 0\n",
    "    t = 0\n",
    "    while True:\n",
    "        time_between_goals = random.expovariate(lam)\n",
    "        t += time_between_goals\n",
    "        if t > 1:\n",
    "            break\n",
    "        goals += 1\n",
    "\n",
    "    # estimated goal-scoring rate is the actual number of goals scored\n",
    "    L = goals\n",
    "    return L"
   ]
  },
  {
   "cell_type": "code",
   "execution_count": 115,
   "metadata": {},
   "outputs": [],
   "source": [
    "# Solution goes here\n",
    "def simulate_many_games(lam, num_games):\n",
    "    \"\"\"\n",
    "    Simulates selected number of games.\n",
    "    Returns the scoring rate, lambda, for each simulated game.\n",
    "    \"\"\"\n",
    "    \n",
    "    lambda_estimates = []\n",
    "    #cdfs = []\n",
    "    \n",
    "    for _ in range(num_games):\n",
    "        L = SimulateGame(lam)\n",
    "        lambda_estimates.append(L)\n",
    "        \n",
    "    \n",
    "    rmse = RMSE(lambda_estimates, lam)\n",
    "    mean_err = MeanError(lambda_estimates,lam)\n",
    "    \n",
    "    # Use PMF because goals scored per game are used to reference DISCRETE random variables.\n",
    "    pmf = thinkstats2.Pmf(lambda_estimates)\n",
    "    \n",
    "    print(f\"L RMSE: {round(rmse,5)}\")\n",
    "    print(F\"L Mean Error: {round(mean_err, 5)}\")\n",
    "    \n",
    "    thinkplot.Hist(pmf)\n",
    "    "
   ]
  },
  {
   "cell_type": "code",
   "execution_count": 118,
   "metadata": {},
   "outputs": [
    {
     "name": "stdout",
     "output_type": "stream",
     "text": [
      "L RMSE: 2.44681\n",
      "L Mean Error: -0.00273\n"
     ]
    },
    {
     "data": {
      "image/png": "[encoded data removed]",
      "text/plain": [
       "<Figure size 432x288 with 1 Axes>"
      ]
     },
     "metadata": {
      "needs_background": "light"
     },
     "output_type": "display_data"
    }
   ],
   "source": [
    "lam = 6\n",
    "num_games = 1000000\n",
    "\n",
    "simulate_many_games(lam, num_games)"
   ]
  },
  {
   "cell_type": "code",
   "execution_count": 106,
   "metadata": {},
   "outputs": [],
   "source": [
    "# Solution goes here\n",
    "\n",
    "num_games = 100\n",
    "scoring_rates = np.arange(1, 6)\n",
    "\n",
    "rmse_arr = []\n",
    "std_err_arr = []\n",
    "pmf_arr = []\n",
    "\n",
    "for rate in scoring_rates:\n",
    "    rmse, mean_err, cdf = simulate_many_games(rate, 100)\n",
    "    rmse_arr.append(rmse)\n",
    "    std_err_arr.append(mean_err)\n",
    "    pmf_arr.append(cdf)"
   ]
  },
  {
   "cell_type": "code",
   "execution_count": 107,
   "metadata": {},
   "outputs": [
    {
     "data": {
      "image/png": "[encoded data removed]",
      "text/plain": [
       "<Figure size 1008x360 with 2 Axes>"
      ]
     },
     "metadata": {
      "needs_background": "light"
     },
     "output_type": "display_data"
    }
   ],
   "source": []
  },
  {
   "cell_type": "code",
   "execution_count": 108,
   "metadata": {},
   "outputs": [
    {
     "data": {
      "image/png": "[encoded data removed]",
      "text/plain": [
       "<Figure size 432x288 with 1 Axes>"
      ]
     },
     "metadata": {
      "needs_background": "light"
     },
     "output_type": "display_data"
    }
   ],
   "source": [
    "thinkplot.PrePlot(3)\n",
    "for lam in [2.0, 1, 0.5]:\n",
    "    xs, ps = thinkstats2.RenderExpoCdf(lam, 0, 3.0, 50)\n",
    "    label = r'$\\lambda=%g$' % lam\n",
    "    thinkplot.Plot(xs, ps, label=label)\n",
    "    \n",
    "thinkplot.Config(title='Exponential CDF', xlabel='x', ylabel='CDF', \n",
    "                 loc='lower right')"
   ]
  },
  {
   "cell_type": "code",
   "execution_count": 110,
   "metadata": {},
   "outputs": [
    {
     "data": {
      "image/png": "[encoded data removed]",
      "text/plain": [
       "<Figure size 432x288 with 1 Axes>"
      ]
     },
     "metadata": {
      "needs_background": "light"
     },
     "output_type": "display_data"
    }
   ],
   "source": [
    "thinkplot.PrePlot(5)\n",
    "\n",
    "for num, pmf in enumerate(pmf_arr):\n",
    "    num = num + 1\n",
    "    label = r'$\\lambda=%g$' % num\n",
    "    thinkplot.Hist(pmf, label=label)\n",
    "\n",
    "    \n",
    "thinkplot.Config(title='Hockey Game - Exponential', xlabel='x', ylabel='CDF', loc='lower right')"
   ]
  },
  {
   "cell_type": "code",
   "execution_count": null,
   "metadata": {},
   "outputs": [],
   "source": []
  }
 ],
 "metadata": {
  "kernelspec": {
   "display_name": "Python 3",
   "language": "python",
   "name": "python3"
  },
  "language_info": {
   "codemirror_mode": {
    "name": "ipython",
    "version": 3
   },
   "file_extension": ".py",
   "mimetype": "text/x-python",
   "name": "python",
   "nbconvert_exporter": "python",
   "pygments_lexer": "ipython3",
   "version": "3.8.5"
  }
 },
 "nbformat": 4,
 "nbformat_minor": 4
}
